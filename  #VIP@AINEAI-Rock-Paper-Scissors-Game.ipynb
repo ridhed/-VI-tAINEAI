{
 "cells": [
  {
   "cell_type": "markdown",
   "id": "cb7f15a1",
   "metadata": {},
   "source": [
    "# Rock Paper Scissors Game"
   ]
  },
  {
   "cell_type": "code",
   "execution_count": 1,
   "id": "7ab8e96a",
   "metadata": {},
   "outputs": [],
   "source": [
    "#IMPORT LIBRARIES\n",
    "import random"
   ]
  },
  {
   "cell_type": "markdown",
   "id": "27c1ed4c",
   "metadata": {},
   "source": [
    "### Initializing dictionary"
   ]
  },
  {
   "cell_type": "code",
   "execution_count": 2,
   "id": "8a9322ca",
   "metadata": {},
   "outputs": [],
   "source": [
    "my_dict={'R':\"Rock\",'P':\"Paper\",'S':\"Scissors\",'L':\"Lizard\"}\n",
    "user_count=0\n",
    "comp_count=0"
   ]
  },
  {
   "cell_type": "markdown",
   "id": "11be36b5",
   "metadata": {},
   "source": [
    "### Loops for game"
   ]
  },
  {
   "cell_type": "code",
   "execution_count": 3,
   "id": "f65d34d4",
   "metadata": {},
   "outputs": [
    {
     "name": "stdout",
     "output_type": "stream",
     "text": [
      "\u001b[1m\n",
      "\t\tRock Paper Scissors Game\u001b[0m\n",
      "\n",
      "Enter the number of games you want to play: 2\n",
      "-------------------------------------------------------------\n",
      "\n",
      "User's Input: Rock\n",
      "Computer's Input:  Scissors\n",
      "User Score: 1 \tComputer Score: 0 \n",
      "\n",
      "-------------------------------------------------------------\n",
      "-------------------------------------------------------------\n",
      "\n",
      "User's Input: Lizard\n",
      "Computer's Input:  Scissors\n",
      "User Score: 1 \tComputer Score: 1 \n",
      "\n",
      "-------------------------------------------------------------\n",
      "\u001b[1mFINAL SCORE:\u001b[0m\n",
      "User Score: 1 \t\t\tComputer Score: 1 \n",
      "\n",
      "\n",
      "\t\tOOPS! IT'S A TIE!\n"
     ]
    }
   ],
   "source": [
    "a_string = '\\n\\t\\tRock Paper Scissors Game'.center(20)\n",
    "bolded_string = \"\\033[1m\" + a_string + \"\\033[0m\"\n",
    "print (bolded_string)\n",
    "\n",
    "games=int(input(\"\\nEnter the number of games you want to play: \"))\n",
    "\n",
    "while(comp_count+user_count<games):    #WHILE LOOP STARTS;\n",
    "\n",
    "    flag=0\n",
    "    \n",
    "    \n",
    "    print(\"-------------------------------------------------------------\")\n",
    "    user_input=input(\"\\nUser's Input: \")[0]\n",
    "    user_input=user_input.upper()\n",
    "    \n",
    "\n",
    "    for i in my_dict.keys():\n",
    "        if(user_input==i):          #If the entered input is confined to Rock, Paper or Scissors or Lizard;\n",
    "            flag=1\n",
    "            break\n",
    "    if(flag!=1):                   #If not, run the loop again;\n",
    "        print(\"INVALID INPUT\")\n",
    "        continue\n",
    "\n",
    "    comp_input=random.choice(list(my_dict.keys()))\t#Random Key from the dictionary my_dict i.e. R,P or S;\n",
    "\n",
    "    print(\"Computer's Input: \", my_dict[comp_input])\n",
    "    if ( user_input=='R' and comp_input=='P' ) or ( user_input=='P' and comp_input=='S' ) or ( user_input=='S' and comp_input=='R' ) or ( user_input=='P' and comp_input=='L' )or ( user_input=='L' and comp_input=='R' )or ( user_input=='L' and comp_input=='S' ):\n",
    "        comp_count+=1\n",
    "    elif ( user_input=='P' and comp_input=='R' ) or ( user_input=='S' and comp_input=='P' ) or ( user_input=='R' and comp_input=='S' )or ( user_input=='L' and comp_input=='P' )or ( user_input=='R' and comp_input=='L' )or ( user_input=='S' and comp_input=='L' ):\n",
    "        user_count+=1\n",
    "    else:\n",
    "        print(\"TIE\")\n",
    "        \n",
    "    print(\"User Score:\",user_count,\"\\tComputer Score:\",comp_count,\"\\n\")\n",
    "    print(\"-------------------------------------------------------------\")\n",
    "\n",
    "#LOOP ENDS;\n",
    "\n",
    "score = \"FINAL SCORE:\"\n",
    "bolded_score = \"\\033[1m\" + score + \"\\033[0m\"\n",
    "print (bolded_score)\n",
    "\n",
    "print(\"User Score:\",user_count,\"\\t\\t\\tComputer Score:\",comp_count,\"\\n\")\n",
    "if user_count>comp_count:\n",
    "    print(\"\\n\\tCONGRATULATIONS! YOU WON!\")\n",
    "elif user_count<comp_count:\n",
    "    print(\"\\n\\t\\tSORRY! YOU LOST!\")\n",
    "else:\n",
    "    print(\"\\n\\t\\tOOPS! IT'S A TIE!\")\n"
   ]
  },
  {
   "cell_type": "markdown",
   "id": "28da862e",
   "metadata": {},
   "source": [
    "### END"
   ]
  },
  {
   "cell_type": "code",
   "execution_count": null,
   "id": "00498a14",
   "metadata": {},
   "outputs": [],
   "source": []
  }
 ],
 "metadata": {
  "kernelspec": {
   "display_name": "Python 3",
   "language": "python",
   "name": "python3"
  },
  "language_info": {
   "codemirror_mode": {
    "name": "ipython",
    "version": 3
   },
   "file_extension": ".py",
   "mimetype": "text/x-python",
   "name": "python",
   "nbconvert_exporter": "python",
   "pygments_lexer": "ipython3",
   "version": "3.8.8"
  }
 },
 "nbformat": 4,
 "nbformat_minor": 5
}
